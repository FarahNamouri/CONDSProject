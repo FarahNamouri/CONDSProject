{
 "cells": [
  {
   "cell_type": "code",
   "execution_count": 4,
   "metadata": {},
   "outputs": [],
   "source": [
    "import hashlib\n",
    "import pyhash\n",
    "from bitarray import bitarray"
   ]
  },
  {
   "cell_type": "code",
   "execution_count": null,
   "metadata": {},
   "outputs": [],
   "source": [
    "class BloomFilter:\n",
    "    def __init__(self, wordNr, FPsrate):\n",
    "        self.wordNr = wordNr\n",
    "        self.FPsrate = FPsrate\n",
    "        self.bit_arr = bitarray(wordNr)\n",
    "        self.bit_arr.setall(False)\n"
   ]
  }
 ],
 "metadata": {
  "kernelspec": {
   "display_name": "APPY2024",
   "language": "python",
   "name": "python3"
  },
  "language_info": {
   "codemirror_mode": {
    "name": "ipython",
    "version": 3
   },
   "file_extension": ".py",
   "mimetype": "text/x-python",
   "name": "python",
   "nbconvert_exporter": "python",
   "pygments_lexer": "ipython3",
   "version": "3.11.8"
  }
 },
 "nbformat": 4,
 "nbformat_minor": 2
}
