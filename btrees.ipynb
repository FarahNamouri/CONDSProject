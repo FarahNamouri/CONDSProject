{
 "cells": [
  {
   "cell_type": "code",
   "execution_count": 4,
   "metadata": {},
   "outputs": [],
   "source": [
    "from bitarray import bitarray\n",
    "from mmh3 import hash as mmh3_hash\n",
    "import math"
   ]
  },
  {
   "cell_type": "code",
   "execution_count": 9,
   "metadata": {},
   "outputs": [],
   "source": [
    "class BloomFilter:\n",
    "    '''\n",
    "    Bloom Filter Class\n",
    "    '''\n",
    "    def __init__(self, word_Nr, FPsrate:float):\n",
    "        '''\n",
    "        wordNr: Number of words stored in the bloom filter\n",
    "        FPsrate: the FP proba\n",
    "        '''\n",
    "        self.FPsrate = FPsrate\n",
    "        self.size = self.array_size(word_Nr, FPsrate)\n",
    "        self.hashNr = self.get_hashNr(self.size, word_Nr)\n",
    "        self.bit_arr = bitarray(self.size)\n",
    "        # array initialized completly by 0\n",
    "        self.bit_arr.setall(0)\n",
    "\n",
    "    @classmethod\n",
    "    def array_size(cls, nbr: int, FP: float):\n",
    "        s = -(nbr*math.log(FP))/(math.log(2)**2)\n",
    "        return int(s)\n",
    "    \n",
    "    # calculating the number of hash functions to be used\n",
    "    @classmethod\n",
    "    def get_hashNr(cls,arrsize: int,nbr_items:float):\n",
    "        hash_numbers = (arrsize/nbr_items) * math.log(2)\n",
    "        return int(hash_numbers)\n",
    "       "
   ]
  }
 ],
 "metadata": {
  "kernelspec": {
   "display_name": "APPY2024",
   "language": "python",
   "name": "python3"
  },
  "language_info": {
   "codemirror_mode": {
    "name": "ipython",
    "version": 3
   },
   "file_extension": ".py",
   "mimetype": "text/x-python",
   "name": "python",
   "nbconvert_exporter": "python",
   "pygments_lexer": "ipython3",
   "version": "3.11.8"
  }
 },
 "nbformat": 4,
 "nbformat_minor": 2
}
