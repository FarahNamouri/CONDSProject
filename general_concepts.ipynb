{
 "cells": [
  {
   "cell_type": "markdown",
   "metadata": {},
   "source": [
    "# Bloom Filter\n",
    "A bloom filter is a probabilistic data structure based on hashing. It has many practical application, it can be found in network routers and web browsers. Also, we use it to test if an element is a member of a set. Hence, we can shortly say that it answers the question: \"Is this element in the set?\". For example, \"Does this username exist in the database?\". The answer typically would be either \"No\" or \"Probably yes\". As a result, we can say that the False Positives are always possible in a bloom filter, while False Negatives aren't at all possible.\n",
    "\n",
    "How does a bloom filter allows for false positives? \n",
    "By using various hash functions to set bits in an array, and verifying if all corresponding bits are set. \n",
    "\n",
    "# What is benchmarking?\n",
    "Benchmarking in a Bloom Filter is the evaluation of the performance of a bloom filter. The goal of it is to understand how a bloom filter behaves in terms of the time and space complexity."
   ]
  },
  {
   "cell_type": "markdown",
   "metadata": {},
   "source": [
    "# Implementing Bloom Filter using an Object-oriented approach\n",
    "We've chosen to implement the bloom filter using an Object-oriented approach because working in class ensures 'Encapsulation', so all the inner work, for example hashing functions, complex calculations (optimal hash functions) will be hidden from the user. \n",
    "Added to that, using Object-oriented approach will garantee modularity, which means that the components of a bloom filter (bit array, hash functions) will be executed into seperate methods, leading to an easy-to-read code, and easier to test it and upgrade it.\n"
   ]
  }
 ],
 "metadata": {
  "language_info": {
   "name": "python"
  }
 },
 "nbformat": 4,
 "nbformat_minor": 2
}
